{
 "cells": [
  {
   "cell_type": "markdown",
   "id": "f3b943a9",
   "metadata": {},
   "source": [
    "## Notebook with analysis of performance of our multi agents simulation\n"
   ]
  },
  {
   "cell_type": "markdown",
   "id": "097d190e",
   "metadata": {},
   "source": [
    "### Analysis of the length of steps it took the explorer drones to find the missing persons"
   ]
  },
  {
   "cell_type": "code",
   "execution_count": 9,
   "id": "1cc6c11a",
   "metadata": {},
   "outputs": [],
   "source": [
    "from warehouse.model import Warehouse\n",
    "from warehouse import agents\n",
    "import matplotlib.pyplot as pl\n",
    "import pandas as pd"
   ]
  },
  {
   "cell_type": "code",
   "execution_count": 13,
   "id": "93ba2416",
   "metadata": {},
   "outputs": [],
   "source": [
    "m = Warehouse(n_robots = 3, n_person = 3, n_first_aid = 3,n_boxes=25, width=50, height=50)"
   ]
  },
  {
   "cell_type": "code",
   "execution_count": 15,
   "id": "cc910414",
   "metadata": {},
   "outputs": [
    {
     "ename": "NameError",
     "evalue": "name 'step' is not defined",
     "output_type": "error",
     "traceback": [
      "\u001b[1;31m----------------------------------------------------------------------\u001b[0m",
      "\u001b[1;31mNameError\u001b[0m                            Traceback (most recent call last)",
      "Cell \u001b[1;32mIn[15], line 1\u001b[0m\n\u001b[1;32m----> 1\u001b[0m \u001b[38;5;28;01mfor\u001b[39;00m i \u001b[38;5;129;01min\u001b[39;00m \u001b[38;5;28mrange\u001b[39m(\u001b[43mstep\u001b[49m):\n\u001b[0;32m      2\u001b[0m     m\u001b[38;5;241m.\u001b[39mstep()\n",
      "\u001b[1;31mNameError\u001b[0m: name 'step' is not defined"
     ]
    }
   ],
   "source": [
    "for i in range(n_steps):\n",
    "    m.step()"
   ]
  },
  {
   "cell_type": "code",
   "execution_count": null,
   "id": "3488e2bd",
   "metadata": {},
   "outputs": [],
   "source": [
    "m_df = m.datacollector.get_model_vars_dataframe()\n",
    "ag_df = m.datacollector.get_agent_vars_dataframe()\n",
    "\n",
    "m_df\n"
   ]
  }
 ],
 "metadata": {
  "kernelspec": {
   "display_name": "Python 3 (ipykernel)",
   "language": "python",
   "name": "python3"
  },
  "language_info": {
   "codemirror_mode": {
    "name": "ipython",
    "version": 3
   },
   "file_extension": ".py",
   "mimetype": "text/x-python",
   "name": "python",
   "nbconvert_exporter": "python",
   "pygments_lexer": "ipython3",
   "version": "3.10.2"
  }
 },
 "nbformat": 4,
 "nbformat_minor": 5
}
